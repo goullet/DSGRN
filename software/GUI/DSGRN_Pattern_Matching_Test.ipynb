{
 "cells": [
  {
   "cell_type": "code",
   "execution_count": 5,
   "metadata": {
    "collapsed": false,
    "scrolled": false
   },
   "outputs": [],
   "source": [
    "from IPython.display import display\n",
    "from IPython.display import HTML\n",
    "# import IPython.core.display as di # Example: di.display_html('<h3>%s:</h3>' % str, raw=True)\n",
    "\n",
    "# This line will hide code by default when the notebook is exported as HTML\n",
    "# di.display_html('<script>jQuery(function() {if (jQuery(\"body.notebook_app\").length == 0) { jQuery(\".input_area\").toggle(); jQuery(\".prompt\").toggle();}});</script>', raw=True)\n",
    "\n",
    "# This line will add a button to toggle visibility of code blocks, for use with the HTML export version\n",
    "# di.display_html('''<button onclick=\"jQuery('.input_area').toggle(); jQuery('.prompt').toggle();\">Show/Hide code</button>''', raw=True)"
   ]
  },
  {
   "cell_type": "code",
   "execution_count": 6,
   "metadata": {
    "collapsed": false
   },
   "outputs": [
    {
     "data": {
      "text/html": [
       "<script>\n",
       "code_show=true; \n",
       "function code_toggle() {\n",
       " if (code_show){\n",
       " $('div.input').hide();\n",
       " } else {\n",
       " $('div.input').show();\n",
       " }\n",
       " code_show = !code_show\n",
       "} \n",
       "$( document ).ready(code_toggle);\n",
       "</script>\n",
       "The raw code for this IPython notebook is by default hidden for easier reading.\n",
       "To toggle on/off the raw code, click <a href=\"javascript:code_toggle()\">here</a>."
      ],
      "text/plain": [
       "<IPython.core.display.HTML object>"
      ]
     },
     "execution_count": 6,
     "metadata": {},
     "output_type": "execute_result"
    }
   ],
   "source": [
    "HTML('''<script>\n",
    "code_show=true; \n",
    "function code_toggle() {\n",
    " if (code_show){\n",
    " $('div.input').hide();\n",
    " } else {\n",
    " $('div.input').show();\n",
    " }\n",
    " code_show = !code_show\n",
    "} \n",
    "$( document ).ready(code_toggle);\n",
    "</script>\n",
    "The raw code for this IPython notebook is by default hidden for easier reading.\n",
    "To toggle on/off the raw code, click <a href=\"javascript:code_toggle()\">here</a>.''')"
   ]
  },
  {
   "cell_type": "markdown",
   "metadata": {},
   "source": [
    "# Pattern Matching"
   ]
  },
  {
   "cell_type": "code",
   "execution_count": 7,
   "metadata": {
    "collapsed": true
   },
   "outputs": [],
   "source": [
    "import DSGRN_Database as dsgrnDB\n",
    "from ipywidgets import widgets"
   ]
  },
  {
   "cell_type": "code",
   "execution_count": 8,
   "metadata": {
    "collapsed": true
   },
   "outputs": [],
   "source": [
    "db = dsgrnDB.connect(\"2D_Example_A.db\")"
   ]
  },
  {
   "cell_type": "code",
   "execution_count": 9,
   "metadata": {
    "collapsed": false
   },
   "outputs": [],
   "source": [
    "Var = [\"N1\",\"P24\",\"K12\"] # name of the variables\n",
    "Nv = len(Var) # number of nodes in the network"
   ]
  },
  {
   "cell_type": "code",
   "execution_count": 10,
   "metadata": {
    "collapsed": false
   },
   "outputs": [],
   "source": [
    "pattern=[]\n",
    "\n",
    "def on_button_clicked(b):\n",
    "    pattern.append(str(buttonDict[str(b.description)].description+\" \"+ toggleDict[str(b.description)].value))\n",
    "    patternDisplay.value=mypattern()\n",
    "    \n",
    "# Construct the interactive widget\n",
    "containerButtons=[]\n",
    "# Hack : use dictionaries to keep track of the status of buttons and toggles \n",
    "# However, we need to find out how to link a button and a toggle together \n",
    "buttonDict={}\n",
    "toggleDict={}\n",
    "\n",
    "for i in range(Nv):\n",
    "    # declare the button\n",
    "    mybutton = widgets.Button(description = Var[i])\n",
    "    mybutton.on_click(on_button_clicked)\n",
    "    mybutton.padding=4\n",
    "    # declare the toggle\n",
    "    toggle = widgets.ToggleButtons( options=['Low', 'High'] )\n",
    "    # Need to link the button and toggle to generate the pattern\n",
    "    #\n",
    "    buttonDict[str(Var[i])] = mybutton\n",
    "    toggleDict[str(Var[i])] = toggle\n",
    "    #\n",
    "    mygroup = widgets.VBox([mybutton,toggle],padding=10)\n",
    "    containerButtons.append(mygroup)\n",
    "    \n",
    "def deleterLastEntry(b):\n",
    "    if ( len(pattern) > 0 ) :\n",
    "        pattern.pop()\n",
    "        patternDisplay.value=mypattern()\n",
    "    \n",
    "deleteLastButton = widgets.Button(description=\"Delete Last Entry\")\n",
    "deleteLastButton.on_click(deleterLastEntry)\n",
    "\n",
    "submitButton = widgets.Button(description=\"Submit\",color='red')\n",
    "\n",
    "containerButtons.append(widgets.VBox([deleteLastButton,submitButton]))\n",
    "\n",
    "allButtons = widgets.HBox(containerButtons)\n",
    "\n",
    "def mypattern( ): \n",
    "    return str(pattern)\n",
    "    \n",
    "\n",
    "patternDisplay = widgets.Textarea( description=\"Pattern : \", value=mypattern(), width=400 )\n",
    "\n",
    "\n",
    "display(widgets.VBox([allButtons,patternDisplay]))\n"
   ]
  },
  {
   "cell_type": "code",
   "execution_count": null,
   "metadata": {
    "collapsed": true
   },
   "outputs": [],
   "source": []
  },
  {
   "cell_type": "code",
   "execution_count": null,
   "metadata": {
    "collapsed": true
   },
   "outputs": [],
   "source": []
  }
 ],
 "metadata": {
  "kernelspec": {
   "display_name": "Python 2",
   "language": "python",
   "name": "python2"
  },
  "language_info": {
   "codemirror_mode": {
    "name": "ipython",
    "version": 2
   },
   "file_extension": ".py",
   "mimetype": "text/x-python",
   "name": "python",
   "nbconvert_exporter": "python",
   "pygments_lexer": "ipython2",
   "version": "2.7.11"
  }
 },
 "nbformat": 4,
 "nbformat_minor": 0
}
