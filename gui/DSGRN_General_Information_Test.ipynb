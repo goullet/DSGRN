{
 "cells": [
  {
   "cell_type": "code",
   "execution_count": 1,
   "metadata": {
    "collapsed": true
   },
   "outputs": [],
   "source": [
    "import DSGRN_Database as dsgrnDB\n",
    "import DSGRN_General_Information as dsgrnGI\n",
    "import DSGRN_Graphviz as dsgrnGV\n",
    "import DSGRN_Query as dsgrnQY"
   ]
  },
  {
   "cell_type": "code",
   "execution_count": 2,
   "metadata": {
    "collapsed": true
   },
   "outputs": [],
   "source": [
    "connector = dsgrnDB.connect(\"2D_Example_A.db\")"
   ]
  },
  {
   "cell_type": "code",
   "execution_count": 3,
   "metadata": {
    "collapsed": false
   },
   "outputs": [],
   "source": [
    "[name,dimension,specification,graphvizTXT] = dsgrnDB.network(connector)"
   ]
  },
  {
   "cell_type": "code",
   "execution_count": 4,
   "metadata": {
    "collapsed": false
   },
   "outputs": [
    {
     "name": "stdout",
     "output_type": "stream",
     "text": [
      "------\n",
      "Name : \n",
      "2D_Example_A\n",
      "------\n",
      "Dimension : \n",
      "2\n",
      "------\n",
      "Equations : \n",
      "X : (X)(Y)\n",
      "Y : (X)(Y)\n",
      "\n",
      "------\n",
      "Network : \n",
      "\n",
      "------\n",
      "Number of Parameters :  1600\n",
      "------\n"
     ]
    }
   ],
   "source": [
    "# Check\n",
    "print \"------\"\n",
    "print \"Name : \\n\" , name\n",
    "print \"------\"\n",
    "print \"Dimension : \\n\", dimension\n",
    "print \"------\"\n",
    "print \"Equations : \\n\", specification\n",
    "print \"------\"\n",
    "print \"Network : \\n\" \n",
    "dsgrnGV.display_gv(graphvizTXT)\n",
    "print \"------\"\n",
    "print \"Number of Parameters : \", dsgrnDB.numberOfParameter(connector)\n",
    "print \"------\""
   ]
  },
  {
   "cell_type": "code",
   "execution_count": 5,
   "metadata": {
    "collapsed": false
   },
   "outputs": [
    {
     "data": {
      "text/plain": [
       "1600"
      ]
     },
     "execution_count": 5,
     "metadata": {},
     "output_type": "execute_result"
    }
   ],
   "source": [
    "dsgrnDB.numberOfParameter(connector)"
   ]
  },
  {
   "cell_type": "code",
   "execution_count": null,
   "metadata": {
    "collapsed": true
   },
   "outputs": [],
   "source": []
  }
 ],
 "metadata": {
  "kernelspec": {
   "display_name": "Python 2",
   "language": "python",
   "name": "python2"
  },
  "language_info": {
   "codemirror_mode": {
    "name": "ipython",
    "version": 2
   },
   "file_extension": ".py",
   "mimetype": "text/x-python",
   "name": "python",
   "nbconvert_exporter": "python",
   "pygments_lexer": "ipython2",
   "version": "2.7.11"
  }
 },
 "nbformat": 4,
 "nbformat_minor": 0
}
