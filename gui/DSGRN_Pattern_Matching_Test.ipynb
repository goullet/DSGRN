{
 "cells": [
  {
   "cell_type": "code",
   "execution_count": 1,
   "metadata": {
    "collapsed": true
   },
   "outputs": [],
   "source": [
    "import DSGRN_Database as dsgrnDB\n",
    "from ipywidgets import widgets\n",
    "from IPython.display import display"
   ]
  },
  {
   "cell_type": "code",
   "execution_count": 2,
   "metadata": {
    "collapsed": true
   },
   "outputs": [],
   "source": [
    "db = dsgrnDB.connect(\"2D_Example_A.db\")"
   ]
  },
  {
   "cell_type": "code",
   "execution_count": 3,
   "metadata": {
    "collapsed": false
   },
   "outputs": [],
   "source": [
    "Var = [\"N1\",\"P24\",\"K12\"] # name of the variables\n",
    "Nv = len(Var) # number of nodes in the network"
   ]
  },
  {
   "cell_type": "code",
   "execution_count": 7,
   "metadata": {
    "collapsed": false
   },
   "outputs": [],
   "source": [
    "pattern=[]\n",
    "\n",
    "def on_button_clicked(b):\n",
    "    pattern.append(str(buttonDict[str(b.description)].description+\" \"+ toggleDict[str(b.description)].value))\n",
    "    patternDisplay.value=mypattern()\n",
    "    \n",
    "# Construct the interactive widget\n",
    "containerButtons=[]\n",
    "# Hack : use dictionaries to keep track of the status of buttons and toggles \n",
    "# However, we need to find out how to link a button and a toggle together \n",
    "buttonDict={}\n",
    "toggleDict={}\n",
    "\n",
    "for i in range(Nv):\n",
    "    # declare the button\n",
    "    mybutton = widgets.Button(description = Var[i])\n",
    "    mybutton.on_click(on_button_clicked)\n",
    "    mybutton.padding=4\n",
    "    # declare the toggle\n",
    "    toggle = widgets.ToggleButtons( options=['Low', 'High'] )\n",
    "    # Need to link the button and toggle to generate the pattern\n",
    "    #\n",
    "    buttonDict[str(Var[i])] = mybutton\n",
    "    toggleDict[str(Var[i])] = toggle\n",
    "    #\n",
    "    mygroup = widgets.VBox([mybutton,toggle])\n",
    "    containerButtons.append(mygroup)\n",
    "    \n",
    "def deleterLastEntry(b):\n",
    "    if ( len(pattern) > 0 ) :\n",
    "        pattern.pop()\n",
    "        patternDisplay.value=mypattern()\n",
    "    \n",
    "deleteLastButton = widgets.Button(description=\"Delete Last Entry\")\n",
    "deleteLastButton.on_click(deleterLastEntry)\n",
    "\n",
    "containerButtons.append(deleteLastButton)\n",
    "    \n",
    "allButtons = widgets.HBox(containerButtons)#[listOfButtons,clearButton])\n",
    "\n",
    "def mypattern( ): \n",
    "    return str(pattern)\n",
    "    \n",
    "# To display the pattern (Not automatic refresh)\n",
    "patternDisplay = widgets.Text(description=\"Pattern\", value=mypattern())\n",
    "\n",
    "\n",
    "display(widgets.VBox([allButtons,patternDisplay]))\n"
   ]
  },
  {
   "cell_type": "code",
   "execution_count": null,
   "metadata": {
    "collapsed": true
   },
   "outputs": [],
   "source": []
  },
  {
   "cell_type": "code",
   "execution_count": null,
   "metadata": {
    "collapsed": true
   },
   "outputs": [],
   "source": []
  }
 ],
 "metadata": {
  "kernelspec": {
   "display_name": "Python 2",
   "language": "python",
   "name": "python2"
  },
  "language_info": {
   "codemirror_mode": {
    "name": "ipython",
    "version": 2
   },
   "file_extension": ".py",
   "mimetype": "text/x-python",
   "name": "python",
   "nbconvert_exporter": "python",
   "pygments_lexer": "ipython2",
   "version": "2.7.11"
  }
 },
 "nbformat": 4,
 "nbformat_minor": 0
}
