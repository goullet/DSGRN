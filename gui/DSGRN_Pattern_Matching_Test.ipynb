{
 "cells": [
  {
   "cell_type": "code",
   "execution_count": 10,
   "metadata": {
    "collapsed": true
   },
   "outputs": [],
   "source": [
    "import DSGRN_Database as dsgrnDB\n",
    "from ipywidgets import widgets\n",
    "from IPython.display import display"
   ]
  },
  {
   "cell_type": "code",
   "execution_count": 11,
   "metadata": {
    "collapsed": true
   },
   "outputs": [],
   "source": [
    "db = dsgrnDB.connect(\"2D_Example_A.db\")"
   ]
  },
  {
   "cell_type": "code",
   "execution_count": 12,
   "metadata": {
    "collapsed": false
   },
   "outputs": [],
   "source": [
    "Var = [\"N1\",\"P24\",\"K12\"] # name of the variables\n",
    "Nv = len(Var) # number of nodes in the network"
   ]
  },
  {
   "cell_type": "code",
   "execution_count": 76,
   "metadata": {
    "collapsed": false
   },
   "outputs": [],
   "source": [
    "from traitlets import link\n",
    "\n",
    "pattern=[]\n",
    "\n",
    "def on_button_clicked(b):\n",
    "    pattern.append(str(b.description))\n",
    "\n",
    "# Construct the interactive widget\n",
    "listOfButtons=[]\n",
    "\n",
    "for i in range(Nv):\n",
    "    # declare the button\n",
    "    mybutton = widgets.Button(description = Var[i])\n",
    "    mybutton.on_click(on_button_clicked)\n",
    "    mybutton.padding=4\n",
    "    # declare the toggle\n",
    "    toggle = widgets.ToggleButtons( options=['Low', 'High'] )\n",
    "    # Need to link the button and toggle to generate the pattern\n",
    "    #\n",
    "    mygroup = widgets.HBox([mybutton,toggle])\n",
    "    listOfButtons.append(mygroup)\n",
    "    \n",
    "def deleterLastEntry(b):\n",
    "    pattern.pop()\n",
    "    \n",
    "deleteLastButton = widgets.Button(description=\"Delete Last Entry\")\n",
    "deleteLastButton.on_click(deleterLastEntry)\n",
    "\n",
    "listOfButtons.append(deleteLastButton)\n",
    "    \n",
    "allButtons = widgets.HBox(listOfButtons)#[listOfButtons,clearButton])\n",
    "\n",
    "def mypattern( ): \n",
    "    return str(pattern)\n",
    "    \n",
    "# To display the pattern (Not automatic refresh)\n",
    "patternDisplay = widgets.Text(description=\"Pattern\", value=mypattern())\n",
    "\n",
    "\n",
    "display(widgets.VBox([allButtons,patternDisplay]))\n"
   ]
  },
  {
   "cell_type": "code",
   "execution_count": 79,
   "metadata": {
    "collapsed": false
   },
   "outputs": [
    {
     "name": "stdout",
     "output_type": "stream",
     "text": [
      "Pattern :  ['N1', 'N1', 'P24', 'P24', 'K12', 'P24', 'P24', 'P24', 'P24']\n"
     ]
    }
   ],
   "source": [
    "print \"Pattern : \", pattern"
   ]
  },
  {
   "cell_type": "code",
   "execution_count": null,
   "metadata": {
    "collapsed": true
   },
   "outputs": [],
   "source": [
    "widgets.Button()"
   ]
  }
 ],
 "metadata": {
  "kernelspec": {
   "display_name": "Python 2",
   "language": "python",
   "name": "python2"
  },
  "language_info": {
   "codemirror_mode": {
    "name": "ipython",
    "version": 2
   },
   "file_extension": ".py",
   "mimetype": "text/x-python",
   "name": "python",
   "nbconvert_exporter": "python",
   "pygments_lexer": "ipython2",
   "version": "2.7.11"
  }
 },
 "nbformat": 4,
 "nbformat_minor": 0
}
